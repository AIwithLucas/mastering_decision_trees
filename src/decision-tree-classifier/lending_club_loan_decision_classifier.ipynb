{
 "cells": [
  {
   "cell_type": "code",
   "execution_count": 2,
   "metadata": {},
   "outputs": [],
   "source": [
    "import pandas as pd\n",
    "import seaborn as sb\n",
    "from sklearn.preprocessing import LabelEncoder"
   ]
  },
  {
   "cell_type": "markdown",
   "metadata": {},
   "source": [
    "### 1. Understanding dataset\n"
   ]
  },
  {
   "cell_type": "code",
   "execution_count": 4,
   "metadata": {},
   "outputs": [
    {
     "name": "stdout",
     "output_type": "stream",
     "text": [
      "                 emp_title  emp_length state homeownership  annual_income  \\\n",
      "0  global config engineer          3.0    NJ      MORTGAGE        90000.0   \n",
      "1   warehouse office clerk        10.0    HI          RENT        40000.0   \n",
      "2                 assembly         3.0    WI          RENT        40000.0   \n",
      "3         customer service         1.0    PA          RENT        30000.0   \n",
      "4     security supervisor         10.0    CA          RENT        35000.0   \n",
      "\n",
      "   verified_income  debt_to_income  annual_income_joint  \\\n",
      "0         Verified           18.01                  NaN   \n",
      "1     Not Verified            5.04                  NaN   \n",
      "2  Source Verified           21.15                  NaN   \n",
      "3     Not Verified           10.16                  NaN   \n",
      "4         Verified           57.96              57000.0   \n",
      "\n",
      "  verification_income_joint  debt_to_income_joint  ...  sub_grade  \\\n",
      "0                       NaN                   NaN  ...         C3   \n",
      "1                       NaN                   NaN  ...         C1   \n",
      "2                       NaN                   NaN  ...         D1   \n",
      "3                       NaN                   NaN  ...         A3   \n",
      "4                  Verified                 37.66  ...         C3   \n",
      "\n",
      "   issue_month  loan_status  initial_listing_status  disbursement_method  \\\n",
      "0     Mar-2018      Current                   whole                 Cash   \n",
      "1     Feb-2018      Current                   whole                 Cash   \n",
      "2     Feb-2018      Current              fractional                 Cash   \n",
      "3     Jan-2018      Current                   whole                 Cash   \n",
      "4     Mar-2018      Current                   whole                 Cash   \n",
      "\n",
      "    balance  paid_total  paid_principal  paid_interest  paid_late_fees  \n",
      "0  27015.86     1999.33          984.14        1015.19             0.0  \n",
      "1   4651.37      499.12          348.63         150.49             0.0  \n",
      "2   1824.63      281.80          175.37         106.43             0.0  \n",
      "3  18853.26     3312.89         2746.74         566.15             0.0  \n",
      "4  21430.15     2324.65         1569.85         754.80             0.0  \n",
      "\n",
      "[5 rows x 55 columns]\n",
      "Dataset shape: (10000, 55)\n"
     ]
    }
   ],
   "source": [
    "df = pd.read_csv(\"../../data/lending_club_loan_data.csv\")\n",
    "\n",
    "print(df.head())\n",
    "\n",
    "print(f\"Dataset shape: {df.shape}\")"
   ]
  },
  {
   "cell_type": "markdown",
   "metadata": {},
   "source": [
    "#### 1.2 Check for missing values & fill fix them\n",
    "\n",
    "- think about possible reasons why data is missing\n"
   ]
  },
  {
   "cell_type": "code",
   "execution_count": 6,
   "metadata": {},
   "outputs": [
    {
     "name": "stdout",
     "output_type": "stream",
     "text": [
      "emp_title                            833\n",
      "emp_length                           817\n",
      "state                                  0\n",
      "homeownership                          0\n",
      "annual_income                          0\n",
      "verified_income                        0\n",
      "debt_to_income                        24\n",
      "annual_income_joint                 8505\n",
      "verification_income_joint           8545\n",
      "debt_to_income_joint                8505\n",
      "delinq_2y                              0\n",
      "months_since_last_delinq            5658\n",
      "earliest_credit_line                   0\n",
      "inquiries_last_12m                     0\n",
      "total_credit_lines                     0\n",
      "open_credit_lines                      0\n",
      "total_credit_limit                     0\n",
      "total_credit_utilized                  0\n",
      "num_collections_last_12m               0\n",
      "num_historical_failed_to_pay           0\n",
      "months_since_90d_late               7715\n",
      "current_accounts_delinq                0\n",
      "total_collection_amount_ever           0\n",
      "current_installment_accounts           0\n",
      "accounts_opened_24m                    0\n",
      "months_since_last_credit_inquiry    1271\n",
      "num_satisfactory_accounts              0\n",
      "num_accounts_120d_past_due           318\n",
      "num_accounts_30d_past_due              0\n",
      "num_active_debit_accounts              0\n",
      "total_debit_limit                      0\n",
      "num_total_cc_accounts                  0\n",
      "num_open_cc_accounts                   0\n",
      "num_cc_carrying_balance                0\n",
      "num_mort_accounts                      0\n",
      "account_never_delinq_percent           0\n",
      "tax_liens                              0\n",
      "public_record_bankrupt                 0\n",
      "loan_purpose                           0\n",
      "application_type                       0\n",
      "loan_amount                            0\n",
      "term                                   0\n",
      "interest_rate                          0\n",
      "installment                            0\n",
      "grade                                  0\n",
      "sub_grade                              0\n",
      "issue_month                            0\n",
      "loan_status                            0\n",
      "initial_listing_status                 0\n",
      "disbursement_method                    0\n",
      "balance                                0\n",
      "paid_total                             0\n",
      "paid_principal                         0\n",
      "paid_interest                          0\n",
      "paid_late_fees                         0\n",
      "dtype: int64\n"
     ]
    }
   ],
   "source": [
    "print(df.isnull().sum())"
   ]
  },
  {
   "cell_type": "markdown",
   "metadata": {},
   "source": [
    "## Possible reason for missing values\n",
    "\n",
    "#### 1.emp_title (833 missing values)\n",
    "\n",
    "    - borrowers choose not to disclose job title due to privacy concerns\n",
    "\n",
    "    impact:\n",
    "        - affect analysis related to employment sector and correlation to credit risk\n",
    "\n",
    "#### 2. emp_length (817 missing values)\n",
    "\n",
    "    - borrowers may omit this info if they have short employment history, self-employed or in informal / unverified jobs\n",
    "\n",
    "    impact:\n",
    "        - affect features correlating employment stability with default risk\n",
    "\n",
    "#### 3. annual_income_joint, verification_income_joint, debt_to_income_joint (8505 - 8545 missing values)\n",
    "\n",
    "    - specific to joint loan applicants\n",
    "    - if borrower applied for individual loans, these fields are irrelevant\n",
    "\n",
    "    impact:\n",
    "        - missing values are expected and not representative of incomplete data\n",
    "\n",
    "#### 4. months_since_last_delinq (5658 missing values)\n",
    "\n",
    "    - possibly due to borrowers not having any delinquency history\n",
    "    - inconsistent reporting / unverified borrower credit records can also lead to missing\n",
    "\n",
    "    impact:\n",
    "        - no delinquencies are lower risk but absence of this feature might limit credit behaviour analysis\n",
    "\n",
    "#### 5. months_since_90d_late (7715 missing values)\n",
    "\n",
    "    - missing values suggest that borrowers may not have record of being 90d late in credit payment\n",
    "    - lack of reporting in credit history may also cause this issue\n",
    "\n",
    "    impact:\n",
    "        - missing values likely means borrower no severe delinquency but such assumption might lead to underestimation of risks for unreported cases\n",
    "\n",
    "#### 6. debt_to_income (24 missing values)\n",
    "\n",
    "    - borrowers did not provide complete information during loan application process\n",
    "    - borrowers with atypical financial situation\n",
    "\n",
    "    impact:\n",
    "        - missing values could bias models & impact reliability\n"
   ]
  },
  {
   "cell_type": "code",
   "execution_count": null,
   "metadata": {},
   "outputs": [],
   "source": []
  },
  {
   "cell_type": "markdown",
   "metadata": {},
   "source": [
    "# Resolving Missing Values\n"
   ]
  },
  {
   "cell_type": "code",
   "execution_count": 15,
   "metadata": {},
   "outputs": [
    {
     "data": {
      "text/plain": [
       "array([nan, 'Verified', 'Not Verified', 'Source Verified'], dtype=object)"
      ]
     },
     "execution_count": 15,
     "metadata": {},
     "output_type": "execute_result"
    }
   ],
   "source": [
    "df['verification_income_joint'].unique()"
   ]
  },
  {
   "cell_type": "code",
   "execution_count": null,
   "metadata": {},
   "outputs": [
    {
     "data": {
      "text/plain": [
       "5.930306000217794"
      ]
     },
     "execution_count": 11,
     "metadata": {},
     "output_type": "execute_result"
    }
   ],
   "source": []
  },
  {
   "cell_type": "code",
   "execution_count": null,
   "metadata": {},
   "outputs": [
    {
     "name": "stdout",
     "output_type": "stream",
     "text": [
      "['global config engineer ' 'warehouse office clerk' 'assembly' ...\n",
      " 'inspector/packer' 'da coordinator ' 'toolmaker']\n",
      "\n",
      "5.930306000217794\n",
      "6.0\n"
     ]
    }
   ],
   "source": [
    "print(df['emp_title'].unique())\n",
    "print()\n",
    "print(df['emp_length'].mean())\n",
    "print(df['emp_length'].median())\n",
    "print()\n",
    "print()\n"
   ]
  },
  {
   "cell_type": "code",
   "execution_count": 20,
   "metadata": {},
   "outputs": [],
   "source": [
    "# categorical, use unknown\n",
    "df['emp_title'] = df['emp_title'].fillna(\"unknown\")\n",
    "\n",
    "# mean is 5.93, median is 6. both is fine\n",
    "df['emp_length'] = df['emp_length'].fillna(df['emp_length'].median())\n",
    "\n",
    "# 0 to represent not applicable\n",
    "df['annual_income_joint'] = df['annual_income_joint'].fillna(0)\n",
    "df['verification_income_joint'] = df['verification_income_joint'].fillna(\"Not Applicable\")\n",
    "df['debt_to_income_joint'] = df['debt_to_income_joint'].fillna(0)\n",
    "\n",
    "# assume no delinquency history\n",
    "df['months_since_last_delinq'] = df['months_since_last_delinq'].fillna(0)\n",
    "\n",
    "\n",
    "# assume 0 for borrowers without severe delinquency\n",
    "df['months_since_90d_late'] = df['months_since_90d_late'].fillna(0)  # or 999\n",
    "\n",
    "# dataset sufficiently large, can drop missing rows\n",
    "df = df.dropna(subset=['debt_to_income'])\n"
   ]
  },
  {
   "cell_type": "code",
   "execution_count": 22,
   "metadata": {},
   "outputs": [
    {
     "name": "stdout",
     "output_type": "stream",
     "text": [
      "emp_title                              0\n",
      "emp_length                             0\n",
      "state                                  0\n",
      "homeownership                          0\n",
      "annual_income                          0\n",
      "verified_income                        0\n",
      "debt_to_income                         0\n",
      "annual_income_joint                    0\n",
      "verification_income_joint              0\n",
      "debt_to_income_joint                   0\n",
      "delinq_2y                              0\n",
      "months_since_last_delinq               0\n",
      "earliest_credit_line                   0\n",
      "inquiries_last_12m                     0\n",
      "total_credit_lines                     0\n",
      "open_credit_lines                      0\n",
      "total_credit_limit                     0\n",
      "total_credit_utilized                  0\n",
      "num_collections_last_12m               0\n",
      "num_historical_failed_to_pay           0\n",
      "months_since_90d_late                  0\n",
      "current_accounts_delinq                0\n",
      "total_collection_amount_ever           0\n",
      "current_installment_accounts           0\n",
      "accounts_opened_24m                    0\n",
      "months_since_last_credit_inquiry    1267\n",
      "num_satisfactory_accounts              0\n",
      "num_accounts_120d_past_due           318\n",
      "num_accounts_30d_past_due              0\n",
      "num_active_debit_accounts              0\n",
      "total_debit_limit                      0\n",
      "num_total_cc_accounts                  0\n",
      "num_open_cc_accounts                   0\n",
      "num_cc_carrying_balance                0\n",
      "num_mort_accounts                      0\n",
      "account_never_delinq_percent           0\n",
      "tax_liens                              0\n",
      "public_record_bankrupt                 0\n",
      "loan_purpose                           0\n",
      "application_type                       0\n",
      "loan_amount                            0\n",
      "term                                   0\n",
      "interest_rate                          0\n",
      "installment                            0\n",
      "grade                                  0\n",
      "sub_grade                              0\n",
      "issue_month                            0\n",
      "loan_status                            0\n",
      "initial_listing_status                 0\n",
      "disbursement_method                    0\n",
      "balance                                0\n",
      "paid_total                             0\n",
      "paid_principal                         0\n",
      "paid_interest                          0\n",
      "paid_late_fees                         0\n",
      "dtype: int64\n",
      "(9976, 55)\n"
     ]
    }
   ],
   "source": [
    "print(df.isnull().sum())\n",
    "print(df.shape)"
   ]
  },
  {
   "cell_type": "markdown",
   "metadata": {},
   "source": [
    "### 3 Summary Statistics & Data description\n",
    "\n",
    "- identify features that are categorical, numerical, data/time\n",
    "- generate summary statistics for numerical features to identify potential anomalies\n"
   ]
  },
  {
   "cell_type": "code",
   "execution_count": 23,
   "metadata": {},
   "outputs": [
    {
     "name": "stdout",
     "output_type": "stream",
     "text": [
      "emp_title                            object\n",
      "emp_length                          float64\n",
      "state                                object\n",
      "homeownership                        object\n",
      "annual_income                       float64\n",
      "verified_income                      object\n",
      "debt_to_income                      float64\n",
      "annual_income_joint                 float64\n",
      "verification_income_joint            object\n",
      "debt_to_income_joint                float64\n",
      "delinq_2y                             int64\n",
      "months_since_last_delinq            float64\n",
      "earliest_credit_line                  int64\n",
      "inquiries_last_12m                    int64\n",
      "total_credit_lines                    int64\n",
      "open_credit_lines                     int64\n",
      "total_credit_limit                    int64\n",
      "total_credit_utilized                 int64\n",
      "num_collections_last_12m              int64\n",
      "num_historical_failed_to_pay          int64\n",
      "months_since_90d_late               float64\n",
      "current_accounts_delinq               int64\n",
      "total_collection_amount_ever          int64\n",
      "current_installment_accounts          int64\n",
      "accounts_opened_24m                   int64\n",
      "months_since_last_credit_inquiry    float64\n",
      "num_satisfactory_accounts             int64\n",
      "num_accounts_120d_past_due          float64\n",
      "num_accounts_30d_past_due             int64\n",
      "num_active_debit_accounts             int64\n",
      "total_debit_limit                     int64\n",
      "num_total_cc_accounts                 int64\n",
      "num_open_cc_accounts                  int64\n",
      "num_cc_carrying_balance               int64\n",
      "num_mort_accounts                     int64\n",
      "account_never_delinq_percent        float64\n",
      "tax_liens                             int64\n",
      "public_record_bankrupt                int64\n",
      "loan_purpose                         object\n",
      "application_type                     object\n",
      "loan_amount                           int64\n",
      "term                                  int64\n",
      "interest_rate                       float64\n",
      "installment                         float64\n",
      "grade                                object\n",
      "sub_grade                            object\n",
      "issue_month                          object\n",
      "loan_status                          object\n",
      "initial_listing_status               object\n",
      "disbursement_method                  object\n",
      "balance                             float64\n",
      "paid_total                          float64\n",
      "paid_principal                      float64\n",
      "paid_interest                       float64\n",
      "paid_late_fees                      float64\n",
      "dtype: object\n",
      "Numerical Features: Index(['emp_length', 'annual_income', 'debt_to_income', 'annual_income_joint',\n",
      "       'debt_to_income_joint', 'delinq_2y', 'months_since_last_delinq',\n",
      "       'earliest_credit_line', 'inquiries_last_12m', 'total_credit_lines',\n",
      "       'open_credit_lines', 'total_credit_limit', 'total_credit_utilized',\n",
      "       'num_collections_last_12m', 'num_historical_failed_to_pay',\n",
      "       'months_since_90d_late', 'current_accounts_delinq',\n",
      "       'total_collection_amount_ever', 'current_installment_accounts',\n",
      "       'accounts_opened_24m', 'months_since_last_credit_inquiry',\n",
      "       'num_satisfactory_accounts', 'num_accounts_120d_past_due',\n",
      "       'num_accounts_30d_past_due', 'num_active_debit_accounts',\n",
      "       'total_debit_limit', 'num_total_cc_accounts', 'num_open_cc_accounts',\n",
      "       'num_cc_carrying_balance', 'num_mort_accounts',\n",
      "       'account_never_delinq_percent', 'tax_liens', 'public_record_bankrupt',\n",
      "       'loan_amount', 'term', 'interest_rate', 'installment', 'balance',\n",
      "       'paid_total', 'paid_principal', 'paid_interest', 'paid_late_fees'],\n",
      "      dtype='object')\n",
      "Categorical Features: Index(['emp_title', 'state', 'homeownership', 'verified_income',\n",
      "       'verification_income_joint', 'loan_purpose', 'application_type',\n",
      "       'grade', 'sub_grade', 'issue_month', 'loan_status',\n",
      "       'initial_listing_status', 'disbursement_method'],\n",
      "      dtype='object')\n"
     ]
    }
   ],
   "source": [
    "print(df.dtypes)\n",
    "\n",
    "numerical_features = df.select_dtypes(include=['int64', 'float64']).columns\n",
    "categorical_features = df.select_dtypes(include='object').columns\n",
    "\n",
    "print(f\"Numerical Features: {numerical_features}\")\n",
    "print(f\"Categorical Features: {categorical_features}\")"
   ]
  },
  {
   "cell_type": "code",
   "execution_count": 24,
   "metadata": {},
   "outputs": [
    {
     "name": "stdout",
     "output_type": "stream",
     "text": [
      "        emp_length  annual_income  debt_to_income  annual_income_joint  \\\n",
      "count  9976.000000   9.976000e+03     9976.000000         9.976000e+03   \n",
      "mean      5.936147   7.941274e+04       19.308192         1.888665e+04   \n",
      "std       3.553393   6.469524e+04       15.004851         5.277172e+04   \n",
      "min       0.000000   3.000000e+03        0.000000         0.000000e+00   \n",
      "25%       3.000000   4.500000e+04       11.057500         0.000000e+00   \n",
      "50%       6.000000   6.500000e+04       17.570000         0.000000e+00   \n",
      "75%      10.000000   9.500000e+04       25.002500         0.000000e+00   \n",
      "max      10.000000   2.300000e+06      469.090000         1.100000e+06   \n",
      "\n",
      "       debt_to_income_joint    delinq_2y  months_since_last_delinq  \\\n",
      "count           9976.000000  9976.000000               9976.000000   \n",
      "mean               2.951748     0.216018                 15.964014   \n",
      "std                7.740674     0.684045                 23.141431   \n",
      "min                0.000000     0.000000                  0.000000   \n",
      "25%                0.000000     0.000000                  0.000000   \n",
      "50%                0.000000     0.000000                  0.000000   \n",
      "75%                0.000000     0.000000                 29.000000   \n",
      "max               39.980000    13.000000                118.000000   \n",
      "\n",
      "       earliest_credit_line  inquiries_last_12m  total_credit_lines  ...  \\\n",
      "count           9976.000000         9976.000000         9976.000000  ...   \n",
      "mean            2001.282578            1.957698           22.696171  ...   \n",
      "std                7.797631            2.380332           11.890225  ...   \n",
      "min             1963.000000            0.000000            2.000000  ...   \n",
      "25%             1997.000000            0.000000           14.000000  ...   \n",
      "50%             2003.000000            1.000000           21.000000  ...   \n",
      "75%             2006.000000            3.000000           29.000000  ...   \n",
      "max             2015.000000           29.000000           87.000000  ...   \n",
      "\n",
      "       public_record_bankrupt   loan_amount         term  interest_rate  \\\n",
      "count             9976.000000   9976.000000  9976.000000    9976.000000   \n",
      "mean                 0.123897  16357.528067    43.272654      12.422459   \n",
      "std                  0.337299  10301.614193    11.030159       4.997904   \n",
      "min                  0.000000   1000.000000    36.000000       5.310000   \n",
      "25%                  0.000000   8000.000000    36.000000       9.430000   \n",
      "50%                  0.000000  14500.000000    36.000000      11.980000   \n",
      "75%                  0.000000  24000.000000    60.000000      15.050000   \n",
      "max                  3.000000  40000.000000    60.000000      30.940000   \n",
      "\n",
      "       installment       balance    paid_total  paid_principal  paid_interest  \\\n",
      "count  9976.000000   9976.000000   9976.000000     9976.000000    9976.000000   \n",
      "mean    476.011919  14454.168417   2494.442107     1894.781639     599.540655   \n",
      "std     294.776837   9963.246198   3961.729033     3887.746404     517.531868   \n",
      "min      30.750000      0.000000      0.000000        0.000000       0.000000   \n",
      "25%     256.040000   6672.972500    928.650000      587.100000     221.587500   \n",
      "50%     398.250000  12378.380000   1563.040000      984.990000     446.045000   \n",
      "75%     644.690000  20662.017500   2615.045000     1693.950000     825.420000   \n",
      "max    1566.590000  40000.000000  41630.443684    40000.000000    4216.440000   \n",
      "\n",
      "       paid_late_fees  \n",
      "count     9976.000000  \n",
      "mean         0.119804  \n",
      "std          1.815638  \n",
      "min          0.000000  \n",
      "25%          0.000000  \n",
      "50%          0.000000  \n",
      "75%          0.000000  \n",
      "max         52.980000  \n",
      "\n",
      "[8 rows x 42 columns]\n",
      "\n",
      "       emp_title state homeownership  verified_income  \\\n",
      "count       9976  9976          9976             9976   \n",
      "unique      4742    50             3                3   \n",
      "top      unknown    CA      MORTGAGE  Source Verified   \n",
      "freq         810  1328          4778             4115   \n",
      "\n",
      "       verification_income_joint        loan_purpose application_type grade  \\\n",
      "count                       9976                9976             9976  9976   \n",
      "unique                         4                  12                2     7   \n",
      "top               Not Applicable  debt_consolidation       individual     B   \n",
      "freq                        8543                5132             8505  3032   \n",
      "\n",
      "       sub_grade issue_month loan_status initial_listing_status  \\\n",
      "count       9976        9976        9976                   9976   \n",
      "unique        32           3           6                      2   \n",
      "top           B1    Mar-2018     Current                  whole   \n",
      "freq         646        3605        9354                   8185   \n",
      "\n",
      "       disbursement_method  \n",
      "count                 9976  \n",
      "unique                   2  \n",
      "top                   Cash  \n",
      "freq                  9262  \n"
     ]
    }
   ],
   "source": [
    "print(df.describe())\n",
    "print()\n",
    "print(df[categorical_features].describe())"
   ]
  },
  {
   "cell_type": "code",
   "execution_count": 27,
   "metadata": {},
   "outputs": [
    {
     "data": {
      "text/plain": [
       "array(['Current', 'Fully Paid', 'In Grace Period', 'Late (31-120 days)',\n",
       "       'Charged Off', 'Late (16-30 days)'], dtype=object)"
      ]
     },
     "execution_count": 27,
     "metadata": {},
     "output_type": "execute_result"
    }
   ],
   "source": [
    "df['loan_status'].unique()"
   ]
  },
  {
   "cell_type": "code",
   "execution_count": 28,
   "metadata": {},
   "outputs": [
    {
     "data": {
      "text/plain": [
       "Index(['emp_title', 'emp_length', 'state', 'homeownership', 'annual_income',\n",
       "       'verified_income', 'debt_to_income', 'annual_income_joint',\n",
       "       'verification_income_joint', 'debt_to_income_joint', 'delinq_2y',\n",
       "       'months_since_last_delinq', 'earliest_credit_line',\n",
       "       'inquiries_last_12m', 'total_credit_lines', 'open_credit_lines',\n",
       "       'total_credit_limit', 'total_credit_utilized',\n",
       "       'num_collections_last_12m', 'num_historical_failed_to_pay',\n",
       "       'months_since_90d_late', 'current_accounts_delinq',\n",
       "       'total_collection_amount_ever', 'current_installment_accounts',\n",
       "       'accounts_opened_24m', 'months_since_last_credit_inquiry',\n",
       "       'num_satisfactory_accounts', 'num_accounts_120d_past_due',\n",
       "       'num_accounts_30d_past_due', 'num_active_debit_accounts',\n",
       "       'total_debit_limit', 'num_total_cc_accounts', 'num_open_cc_accounts',\n",
       "       'num_cc_carrying_balance', 'num_mort_accounts',\n",
       "       'account_never_delinq_percent', 'tax_liens', 'public_record_bankrupt',\n",
       "       'loan_purpose', 'application_type', 'loan_amount', 'term',\n",
       "       'interest_rate', 'installment', 'grade', 'sub_grade', 'issue_month',\n",
       "       'loan_status', 'initial_listing_status', 'disbursement_method',\n",
       "       'balance', 'paid_total', 'paid_principal', 'paid_interest',\n",
       "       'paid_late_fees'],\n",
       "      dtype='object')"
      ]
     },
     "execution_count": 28,
     "metadata": {},
     "output_type": "execute_result"
    }
   ],
   "source": [
    "df.columns"
   ]
  },
  {
   "cell_type": "code",
   "execution_count": null,
   "metadata": {},
   "outputs": [],
   "source": []
  }
 ],
 "metadata": {
  "kernelspec": {
   "display_name": "base",
   "language": "python",
   "name": "python3"
  },
  "language_info": {
   "codemirror_mode": {
    "name": "ipython",
    "version": 3
   },
   "file_extension": ".py",
   "mimetype": "text/x-python",
   "name": "python",
   "nbconvert_exporter": "python",
   "pygments_lexer": "ipython3",
   "version": "3.12.7"
  }
 },
 "nbformat": 4,
 "nbformat_minor": 2
}
