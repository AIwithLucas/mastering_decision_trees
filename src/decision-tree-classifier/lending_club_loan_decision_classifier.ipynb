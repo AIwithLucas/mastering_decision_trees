{
 "cells": [
  {
   "cell_type": "code",
   "execution_count": 2,
   "metadata": {},
   "outputs": [],
   "source": [
    "import pandas as pd\n",
    "import seaborn as sb\n",
    "from sklearn.preprocessing import LabelEncoder"
   ]
  },
  {
   "cell_type": "markdown",
   "metadata": {},
   "source": [
    "### 1. Understanding dataset\n"
   ]
  },
  {
   "cell_type": "code",
   "execution_count": 4,
   "metadata": {},
   "outputs": [
    {
     "name": "stdout",
     "output_type": "stream",
     "text": [
      "                 emp_title  emp_length state homeownership  annual_income  \\\n",
      "0  global config engineer          3.0    NJ      MORTGAGE        90000.0   \n",
      "1   warehouse office clerk        10.0    HI          RENT        40000.0   \n",
      "2                 assembly         3.0    WI          RENT        40000.0   \n",
      "3         customer service         1.0    PA          RENT        30000.0   \n",
      "4     security supervisor         10.0    CA          RENT        35000.0   \n",
      "\n",
      "   verified_income  debt_to_income  annual_income_joint  \\\n",
      "0         Verified           18.01                  NaN   \n",
      "1     Not Verified            5.04                  NaN   \n",
      "2  Source Verified           21.15                  NaN   \n",
      "3     Not Verified           10.16                  NaN   \n",
      "4         Verified           57.96              57000.0   \n",
      "\n",
      "  verification_income_joint  debt_to_income_joint  ...  sub_grade  \\\n",
      "0                       NaN                   NaN  ...         C3   \n",
      "1                       NaN                   NaN  ...         C1   \n",
      "2                       NaN                   NaN  ...         D1   \n",
      "3                       NaN                   NaN  ...         A3   \n",
      "4                  Verified                 37.66  ...         C3   \n",
      "\n",
      "   issue_month  loan_status  initial_listing_status  disbursement_method  \\\n",
      "0     Mar-2018      Current                   whole                 Cash   \n",
      "1     Feb-2018      Current                   whole                 Cash   \n",
      "2     Feb-2018      Current              fractional                 Cash   \n",
      "3     Jan-2018      Current                   whole                 Cash   \n",
      "4     Mar-2018      Current                   whole                 Cash   \n",
      "\n",
      "    balance  paid_total  paid_principal  paid_interest  paid_late_fees  \n",
      "0  27015.86     1999.33          984.14        1015.19             0.0  \n",
      "1   4651.37      499.12          348.63         150.49             0.0  \n",
      "2   1824.63      281.80          175.37         106.43             0.0  \n",
      "3  18853.26     3312.89         2746.74         566.15             0.0  \n",
      "4  21430.15     2324.65         1569.85         754.80             0.0  \n",
      "\n",
      "[5 rows x 55 columns]\n",
      "Dataset shape: (10000, 55)\n"
     ]
    }
   ],
   "source": [
    "df = pd.read_csv(\"../../data/lending_club_loan_data.csv\")\n",
    "\n",
    "print(df.head())\n",
    "\n",
    "print(f\"Dataset shape: {df.shape}\")"
   ]
  },
  {
   "cell_type": "code",
   "execution_count": 5,
   "metadata": {},
   "outputs": [
    {
     "data": {
      "text/plain": [
       "Index(['emp_title', 'emp_length', 'state', 'homeownership', 'annual_income',\n",
       "       'verified_income', 'debt_to_income', 'annual_income_joint',\n",
       "       'verification_income_joint', 'debt_to_income_joint', 'delinq_2y',\n",
       "       'months_since_last_delinq', 'earliest_credit_line',\n",
       "       'inquiries_last_12m', 'total_credit_lines', 'open_credit_lines',\n",
       "       'total_credit_limit', 'total_credit_utilized',\n",
       "       'num_collections_last_12m', 'num_historical_failed_to_pay',\n",
       "       'months_since_90d_late', 'current_accounts_delinq',\n",
       "       'total_collection_amount_ever', 'current_installment_accounts',\n",
       "       'accounts_opened_24m', 'months_since_last_credit_inquiry',\n",
       "       'num_satisfactory_accounts', 'num_accounts_120d_past_due',\n",
       "       'num_accounts_30d_past_due', 'num_active_debit_accounts',\n",
       "       'total_debit_limit', 'num_total_cc_accounts', 'num_open_cc_accounts',\n",
       "       'num_cc_carrying_balance', 'num_mort_accounts',\n",
       "       'account_never_delinq_percent', 'tax_liens', 'public_record_bankrupt',\n",
       "       'loan_purpose', 'application_type', 'loan_amount', 'term',\n",
       "       'interest_rate', 'installment', 'grade', 'sub_grade', 'issue_month',\n",
       "       'loan_status', 'initial_listing_status', 'disbursement_method',\n",
       "       'balance', 'paid_total', 'paid_principal', 'paid_interest',\n",
       "       'paid_late_fees'],\n",
       "      dtype='object')"
      ]
     },
     "execution_count": 5,
     "metadata": {},
     "output_type": "execute_result"
    }
   ],
   "source": [
    "df.columns"
   ]
  },
  {
   "cell_type": "code",
   "execution_count": 4,
   "metadata": {},
   "outputs": [
    {
     "name": "stderr",
     "output_type": "stream",
     "text": [
      "/var/folders/fc/n6ycqzwx13989g40ry2djdsh0000gn/T/ipykernel_83581/3393488308.py:1: FutureWarning: A value is trying to be set on a copy of a DataFrame or Series through chained assignment using an inplace method.\n",
      "The behavior will change in pandas 3.0. This inplace method will never work because the intermediate object on which we are setting values always behaves as a copy.\n",
      "\n",
      "For example, when doing 'df[col].method(value, inplace=True)', try using 'df.method({col: value}, inplace=True)' or df[col] = df[col].method(value) instead, to perform the operation inplace on the original object.\n",
      "\n",
      "\n",
      "  df['Saving accounts'].fillna(\"No Account\", inplace=True)\n",
      "/var/folders/fc/n6ycqzwx13989g40ry2djdsh0000gn/T/ipykernel_83581/3393488308.py:2: FutureWarning: A value is trying to be set on a copy of a DataFrame or Series through chained assignment using an inplace method.\n",
      "The behavior will change in pandas 3.0. This inplace method will never work because the intermediate object on which we are setting values always behaves as a copy.\n",
      "\n",
      "For example, when doing 'df[col].method(value, inplace=True)', try using 'df.method({col: value}, inplace=True)' or df[col] = df[col].method(value) instead, to perform the operation inplace on the original object.\n",
      "\n",
      "\n",
      "  df['Checking account'].fillna(\"No Account\", inplace=True)\n"
     ]
    }
   ],
   "source": [
    "df['Saving accounts'].fillna(\"No Account\", inplace=True)\n",
    "df['Checking account'].fillna(\"No Account\", inplace=True)"
   ]
  },
  {
   "cell_type": "code",
   "execution_count": 5,
   "metadata": {},
   "outputs": [
    {
     "data": {
      "text/plain": [
       "Age                 0\n",
       "Sex                 0\n",
       "Job                 0\n",
       "Housing             0\n",
       "Saving accounts     0\n",
       "Checking account    0\n",
       "Credit amount       0\n",
       "Duration            0\n",
       "Purpose             0\n",
       "Risk                0\n",
       "dtype: int64"
      ]
     },
     "execution_count": 5,
     "metadata": {},
     "output_type": "execute_result"
    }
   ],
   "source": [
    "df.isnull().sum()"
   ]
  },
  {
   "cell_type": "code",
   "execution_count": null,
   "metadata": {},
   "outputs": [],
   "source": [
    "# label encoding\n",
    "le = LabelEncoder()\n",
    "label_columns = ['Saving accounts', 'Checking account', 'Risk']\n",
    "for col in label_columns:\n",
    "    df[col] = le.fit_transform(df[col])\n",
    "\n",
    "# 1-hot encoding\n",
    "df = pd.get_dummies(df, columns=['Sex', 'Housing', 'Purpose'], drop_first=True)\n",
    "df = df.astype(int)"
   ]
  }
 ],
 "metadata": {
  "kernelspec": {
   "display_name": "base",
   "language": "python",
   "name": "python3"
  },
  "language_info": {
   "codemirror_mode": {
    "name": "ipython",
    "version": 3
   },
   "file_extension": ".py",
   "mimetype": "text/x-python",
   "name": "python",
   "nbconvert_exporter": "python",
   "pygments_lexer": "ipython3",
   "version": "3.12.7"
  }
 },
 "nbformat": 4,
 "nbformat_minor": 2
}
